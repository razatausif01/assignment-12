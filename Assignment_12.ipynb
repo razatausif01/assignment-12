{
  "cells": [
    {
      "cell_type": "markdown",
      "id": "d9def238",
      "metadata": {
        "id": "d9def238"
      },
      "source": [
        "1.\tWrite a Python program to Extract Unique values dictionary values?\n",
        "2.\tWrite a Python program to find the sum of all items in a dictionary?\n",
        "3.\tWrite a Python program to Merging two Dictionaries?\n",
        "4.\tWrite a Python program to convert key-values list to flat dictionary?\n",
        "5.\tWrite a Python program to insertion at the beginning in OrderedDict?\n",
        "6.\tWrite a Python program to check order of character in string using OrderedDict()?\n",
        "7.\tWrite a Python program to sort Python Dictionaries by Key or Value?\n"
      ]
    },
    {
      "cell_type": "markdown",
      "id": "108d9d4e",
      "metadata": {
        "id": "108d9d4e"
      },
      "source": [
        "Write a Python program to Extract Unique values dictionary values\n",
        "\n"
      ]
    },
    {
      "cell_type": "code",
      "execution_count": 1,
      "id": "e6adf87c",
      "metadata": {
        "colab": {
          "base_uri": "https://localhost:8080/"
        },
        "id": "e6adf87c",
        "outputId": "ef34751c-e37c-4cb2-e8e9-d54bf1adadbf"
      },
      "outputs": [
        {
          "output_type": "stream",
          "name": "stdout",
          "text": [
            "The dictionary is : \n",
            "{'hi': [5, 3, 8, 0], 'there': [22, 51, 63, 77], 'how': [7, 0, 22], 'are': [12, 11, 45], 'you': [56, 31, 89, 90]}\n",
            "The unique values are : \n",
            "[0, 3, 5, 7, 8, 11, 12, 22, 31, 45, 51, 56, 63, 77, 89, 90]\n"
          ]
        }
      ],
      "source": [
        "my_dict = {'hi' : [5,3,8, 0],\n",
        "   'there' : [22, 51, 63, 77],\n",
        "   'how' : [7, 0, 22],\n",
        "   'are' : [12, 11, 45],\n",
        "   'you' : [56, 31, 89, 90]}\n",
        "\n",
        "print(\"The dictionary is : \")\n",
        "print(my_dict)\n",
        "\n",
        "my_result = list(sorted({elem for val in my_dict.values() for elem in val}))\n",
        "\n",
        "print(\"The unique values are : \")\n",
        "print(my_result)\n",
        "            \n",
        "            "
      ]
    },
    {
      "cell_type": "markdown",
      "id": "40aec79a",
      "metadata": {
        "id": "40aec79a"
      },
      "source": [
        "# sum of all item of dictionary"
      ]
    },
    {
      "cell_type": "code",
      "source": [
        "# Python3 Program to find sum of\n",
        "# all items in a Dictionary\n",
        " \n",
        "# Function to print sum\n",
        " \n",
        " \n",
        "def returnSum(myDict):\n",
        " \n",
        "    list = []\n",
        "    for i in myDict:\n",
        "        list.append(myDict[i])\n",
        "    final = sum(list)\n",
        " \n",
        "    return final\n",
        " \n",
        " \n",
        "# Driver Function\n",
        "dict = {'a': 100, 'b': 200, 'c': 300}\n",
        "print(\"Sum :\", returnSum(dict))"
      ],
      "metadata": {
        "colab": {
          "base_uri": "https://localhost:8080/"
        },
        "id": "M0vLRPletpk7",
        "outputId": "56c4fa2b-e83e-4a10-df84-17d096053581"
      },
      "id": "M0vLRPletpk7",
      "execution_count": 2,
      "outputs": [
        {
          "output_type": "stream",
          "name": "stdout",
          "text": [
            "Sum : 600\n"
          ]
        }
      ]
    },
    {
      "cell_type": "markdown",
      "source": [
        "Write a Python program to Merging two Dictionaries"
      ],
      "metadata": {
        "id": "G1BCrmODtyOs"
      },
      "id": "G1BCrmODtyOs"
    },
    {
      "cell_type": "code",
      "source": [
        "# Python code to merge dict using update() method\n",
        "def Merge(dict1, dict2):\n",
        "    return(dict2.update(dict1))\n",
        " \n",
        " \n",
        "# Driver code\n",
        "dict1 = {'a': 10, 'b': 8}\n",
        "dict2 = {'d': 6, 'c': 4}\n",
        " \n",
        "# This return None\n",
        "print(Merge(dict1, dict2))\n",
        " \n",
        "# changes made in dict2\n",
        "print(dict2)"
      ],
      "metadata": {
        "colab": {
          "base_uri": "https://localhost:8080/"
        },
        "id": "br4iKvUitqlx",
        "outputId": "1c7d3ebd-9b14-4608-aab9-e7b191bf40a5"
      },
      "id": "br4iKvUitqlx",
      "execution_count": 3,
      "outputs": [
        {
          "output_type": "stream",
          "name": "stdout",
          "text": [
            "None\n",
            "{'d': 6, 'c': 4, 'a': 10, 'b': 8}\n"
          ]
        }
      ]
    },
    {
      "cell_type": "markdown",
      "source": [
        "Write a Python program to convert key-values list to flat dictionary?"
      ],
      "metadata": {
        "id": "0Dv0Y1QIueaz"
      },
      "id": "0Dv0Y1QIueaz"
    },
    {
      "cell_type": "code",
      "source": [
        "def test(flat_dict):\n",
        "  return list(flat_dict.values())\n",
        "students = {\n",
        "  'Theodore': 19,\n",
        "  'Roxanne': 20,\n",
        "  'Mathew': 21,\n",
        "  'Betty': 20\n",
        "}\n",
        "print(\"\\nOriginal dictionary elements:\")\n",
        "print(students)\n",
        "print(\"\\nCreate a flat list of all the values of the said flat dictionary:\")\n",
        "print(test(students))"
      ],
      "metadata": {
        "colab": {
          "base_uri": "https://localhost:8080/"
        },
        "id": "XkA77oXNt6qy",
        "outputId": "a44d64bc-1ca9-4be5-faae-6ab21ddc87b4"
      },
      "id": "XkA77oXNt6qy",
      "execution_count": 5,
      "outputs": [
        {
          "output_type": "stream",
          "name": "stdout",
          "text": [
            "\n",
            "Original dictionary elements:\n",
            "{'Theodore': 19, 'Roxanne': 20, 'Mathew': 21, 'Betty': 20}\n",
            "\n",
            "Create a flat list of all the values of the said flat dictionary:\n",
            "[19, 20, 21, 20]\n"
          ]
        }
      ]
    },
    {
      "cell_type": "markdown",
      "source": [
        "Write a Python program to insertion at the beginning in OrderedDict"
      ],
      "metadata": {
        "id": "SLh3hpH8u4rL"
      },
      "id": "SLh3hpH8u4rL"
    },
    {
      "cell_type": "code",
      "source": [
        "from collections import OrderedDict\n",
        "\n",
        "my_ordered_dict = OrderedDict([('Will', '1'), ('James', '2'), ('Rob', '4')])\n",
        "print(\"The dictionary is :\")\n",
        "print(my_ordered_dict)\n",
        "my_ordered_dict.update({'Mark':'7'})\n",
        "my_ordered_dict.move_to_end('Mark', last = False)\n",
        "\n",
        "print(\"The resultant dictionary is : \")\n",
        "print(my_ordered_dict)"
      ],
      "metadata": {
        "colab": {
          "base_uri": "https://localhost:8080/"
        },
        "id": "bbqq408Cu5oa",
        "outputId": "f803c4ed-8d40-4e71-be9e-6d87c85a8957"
      },
      "id": "bbqq408Cu5oa",
      "execution_count": 6,
      "outputs": [
        {
          "output_type": "stream",
          "name": "stdout",
          "text": [
            "The dictionary is :\n",
            "OrderedDict([('Will', '1'), ('James', '2'), ('Rob', '4')])\n",
            "The resultant dictionary is : \n",
            "OrderedDict([('Mark', '7'), ('Will', '1'), ('James', '2'), ('Rob', '4')])\n"
          ]
        }
      ]
    },
    {
      "cell_type": "markdown",
      "source": [
        "Write a Python program to check order of character in string using OrderedDict()"
      ],
      "metadata": {
        "id": "zj6wPzZEvPps"
      },
      "id": "zj6wPzZEvPps"
    },
    {
      "cell_type": "code",
      "source": [
        "from collections import OrderedDict\n",
        "def check_order(my_input, my_pattern):\n",
        "   my_dict = OrderedDict.fromkeys(my_input)\n",
        "   pattern_length = 0\n",
        "   for key,value in my_dict.items():\n",
        "      if (key == my_pattern[pattern_length]):\n",
        "         pattern_length = pattern_length + 1\n",
        "\n",
        "      if (pattern_length == (len(my_pattern))):\n",
        "         return 'The order of pattern is correct'\n",
        "\n",
        "   return 'The order of pattern is incorrect'\n",
        "\n",
        "my_input = 'Hi Mark'\n",
        "input_pattern = 'Ma'\n",
        "print(\"The string is \")\n",
        "print(my_input)\n",
        "print(\"The input pattern is \")\n",
        "print(input_pattern)\n",
        "print(check_order(my_input,input_pattern))"
      ],
      "metadata": {
        "colab": {
          "base_uri": "https://localhost:8080/"
        },
        "id": "ryKJYZqDvHzX",
        "outputId": "d98d77bc-f9eb-44fd-934c-73da5b345f45"
      },
      "id": "ryKJYZqDvHzX",
      "execution_count": 7,
      "outputs": [
        {
          "output_type": "stream",
          "name": "stdout",
          "text": [
            "The string is \n",
            "Hi Mark\n",
            "The input pattern is \n",
            "Ma\n",
            "The order of pattern is correct\n"
          ]
        }
      ]
    },
    {
      "cell_type": "markdown",
      "source": [
        "Write a Python program to sort Python Dictionaries by Key or Value"
      ],
      "metadata": {
        "id": "H1c9LUCyvces"
      },
      "id": "H1c9LUCyvces"
    },
    {
      "cell_type": "code",
      "source": [
        "color_dict = {'red':'#FF0000',\n",
        "          'green':'#008000',\n",
        "          'black':'#000000',\n",
        "          'white':'#FFFFFF'}\n",
        "\n",
        "for key in sorted(color_dict):\n",
        "    print(\"%s: %s\" % (key, color_dict[key]))\n"
      ],
      "metadata": {
        "colab": {
          "base_uri": "https://localhost:8080/"
        },
        "id": "LsBqM9v9vXgj",
        "outputId": "194de2ab-d321-4ed9-e80f-3a2d9b0c8d9c"
      },
      "id": "LsBqM9v9vXgj",
      "execution_count": 8,
      "outputs": [
        {
          "output_type": "stream",
          "name": "stdout",
          "text": [
            "black: #000000\n",
            "green: #008000\n",
            "red: #FF0000\n",
            "white: #FFFFFF\n"
          ]
        }
      ]
    },
    {
      "cell_type": "code",
      "source": [
        ""
      ],
      "metadata": {
        "id": "7bT4sebFvor6"
      },
      "id": "7bT4sebFvor6",
      "execution_count": null,
      "outputs": []
    }
  ],
  "metadata": {
    "kernelspec": {
      "display_name": "Python 3 (ipykernel)",
      "language": "python",
      "name": "python3"
    },
    "language_info": {
      "codemirror_mode": {
        "name": "ipython",
        "version": 3
      },
      "file_extension": ".py",
      "mimetype": "text/x-python",
      "name": "python",
      "nbconvert_exporter": "python",
      "pygments_lexer": "ipython3",
      "version": "3.9.7"
    },
    "colab": {
      "name": "Assignment_12.ipynb",
      "provenance": []
    }
  },
  "nbformat": 4,
  "nbformat_minor": 5
}